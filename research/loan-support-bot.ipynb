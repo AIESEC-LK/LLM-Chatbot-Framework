{
 "cells": [
  {
   "cell_type": "code",
   "execution_count": 4,
   "metadata": {},
   "outputs": [],
   "source": [
    "#Loading dataset\n",
    "from langchain_community.document_loaders import PyPDFLoader\n",
    "loader=PyPDFLoader('../data/loan-details.pdf')\n",
    "docs=loader.load()"
   ]
  },
  {
   "cell_type": "code",
   "execution_count": 8,
   "metadata": {},
   "outputs": [],
   "source": [
    "#Splitting document\n",
    "from langchain_text_splitters import RecursiveCharacterTextSplitter\n",
    "text_splitter = RecursiveCharacterTextSplitter(\n",
    "    chunk_size=250,\n",
    "    chunk_overlap=20\n",
    ")\n",
    "texts = text_splitter.split_documents(docs)"
   ]
  },
  {
   "cell_type": "code",
   "execution_count": 11,
   "metadata": {},
   "outputs": [],
   "source": [
    "#Importing Env variables\n",
    "import os\n",
    "from dotenv import load_dotenv,find_dotenv\n",
    "\n",
    "\n",
    "dotenv_path = find_dotenv()\n",
    "load_dotenv(dotenv_path)\n",
    "\n",
    "os.environ['OPENAI_API_KEY']=os.getenv(\"OPENAI_API_KEY\")"
   ]
  },
  {
   "cell_type": "code",
   "execution_count": 12,
   "metadata": {},
   "outputs": [],
   "source": [
    "# Vector Embedding And Vector Store\n",
    "from langchain_openai import OpenAIEmbeddings\n",
    "from langchain_community.vectorstores import Chroma\n",
    "db = Chroma.from_documents(docs,OpenAIEmbeddings())"
   ]
  },
  {
   "cell_type": "code",
   "execution_count": 13,
   "metadata": {},
   "outputs": [
    {
     "name": "stdout",
     "output_type": "stream",
     "text": [
      "Loans Description  \n",
      "Smart bank mainl y has 5 type s of loan schemes.  \n",
      "1. Overdra ft Facilities  \n",
      "2. Housing Loans  \n",
      "3. Education Loans  \n",
      "4. Pensioners ’ Loans  \n",
      "5. Personal Loans  \n",
      "1. Over draft  Facilities  \n",
      "An overdraft is the ideal way to manage your cash flow at competitive rates of interest at speed. It is \n",
      "linked to your current account and you can use as much as you need, up to your limit. You can also apply \n",
      "for and either increase or decrease your limit through Internet banking. The controls are in your hands.  \n",
      "• An overdraft is quick and easy to arrange  \n",
      "• The cash is available when you need it  \n",
      "• You only pay interest on what you use, not on the full amount of your set limit  \n",
      "• Sole proprietors can apply for an overdraft or increase their limits   \n",
      "2. Housing Loans  \n",
      "2.1. Housing Loan Sche me \n",
      "• Purchase a land to construct a house later  \n",
      "• Purchase a land and to construct a house  \n",
      "• Construct a house in a land owned by the borrower/s  \n",
      "• Purchase a house/ partly constructed house/ condominium unit  \n",
      "• Complete construction/ renovation/ extension/ repair of an existing house/ condominium unit  \n",
      "• Landscaping/ interior decoration of the house/ condominium unit  \n",
      "• Construction of houses/ apartments for sale  \n",
      "- Please contact the relevant branch for more information.        \n",
      "- This facility is provided only for commercial -purpose house builders  \n",
      "Quantum of the Loan  \n",
      "• Quantum of Loan : A maximum of Rs. 50 Million  \n",
      "• Repayment Period : 25 years  \n",
      "• Area of Operation : All Island  \n",
      "Eligibility  \n",
      "• Be a Sri Lankan Citizen/s above the age of 18 years  \n",
      "• The borrower should be a resident of Sri Lanka  \n",
      "• Should not be a defaulter of Smart  Bank  or any other financial institution  \n",
      "• Professionals with fixed/non -fixed income, permanent employees of government, statutory \n",
      "bodies, private sector, self -employed, farmers, and cultivators etc.  \n",
      "• In case of a joint housing loan, the co -borrowers should be close relatives or directly interested \n",
      "parties for purchasing/developing of property  \n"
     ]
    }
   ],
   "source": [
    "#Test - Similarity search\n",
    "query = \"5 types of loan schemes\"\n",
    "retireved_results=db.similarity_search(query)\n",
    "print(retireved_results[0].page_content)"
   ]
  },
  {
   "cell_type": "code",
   "execution_count": 14,
   "metadata": {},
   "outputs": [],
   "source": [
    "#Load Finetuned Model\n",
    "from langchain_openai import ChatOpenAI\n",
    "llm=ChatOpenAI(model=\"ft:gpt-3.5-turbo-0125:personal:loansupport:9L2FZO36\")"
   ]
  },
  {
   "cell_type": "code",
   "execution_count": 15,
   "metadata": {},
   "outputs": [],
   "source": [
    "#Create Prompt\n",
    "from langchain_core.prompts import ChatPromptTemplate\n",
    "\n",
    "prompt = ChatPromptTemplate.from_template(\"\"\"\n",
    "You're operating as a loan support assistant for a bank. Your task is to assist users with inquiries regarding various loan products and processes. Keep responses concise and relevant. If the information requested is not available, do not provide any details.\n",
    "\n",
    "Question: {input}\n",
    "Context:\n",
    "{context}\n",
    "\"\"\")\n"
   ]
  },
  {
   "cell_type": "code",
   "execution_count": 16,
   "metadata": {},
   "outputs": [],
   "source": [
    "# Document chain\n",
    "from langchain.chains.combine_documents import create_stuff_documents_chain\n",
    "document_chain=create_stuff_documents_chain(llm,prompt)"
   ]
  },
  {
   "cell_type": "code",
   "execution_count": 17,
   "metadata": {},
   "outputs": [],
   "source": [
    "# Retriever\n",
    "retriever = db.as_retriever()"
   ]
  },
  {
   "cell_type": "code",
   "execution_count": 18,
   "metadata": {},
   "outputs": [],
   "source": [
    "# Retriever Chain\n",
    "from langchain.chains import create_retrieval_chain\n",
    "retrieval_chain=create_retrieval_chain(retriever,document_chain)"
   ]
  },
  {
   "cell_type": "code",
   "execution_count": 28,
   "metadata": {},
   "outputs": [],
   "source": [
    "response=retrieval_chain.invoke({\"input\":\"what do you know about areoplanes\"})"
   ]
  },
  {
   "cell_type": "code",
   "execution_count": 29,
   "metadata": {},
   "outputs": [
    {
     "data": {
      "text/plain": [
       "\"I'm here to provide information on Smart Bank's loan schemes, including overdraft facilities, housing loans, education loans, pensioners' loans, and personal loans. If you have any specific questions about these schemes, feel free to ask.\""
      ]
     },
     "execution_count": 29,
     "metadata": {},
     "output_type": "execute_result"
    }
   ],
   "source": [
    "response[\"answer\"]"
   ]
  },
  {
   "cell_type": "code",
   "execution_count": null,
   "metadata": {},
   "outputs": [],
   "source": []
  }
 ],
 "metadata": {
  "kernelspec": {
   "display_name": "env",
   "language": "python",
   "name": "python3"
  },
  "language_info": {
   "codemirror_mode": {
    "name": "ipython",
    "version": 3
   },
   "file_extension": ".py",
   "mimetype": "text/x-python",
   "name": "python",
   "nbconvert_exporter": "python",
   "pygments_lexer": "ipython3",
   "version": "3.11.5"
  }
 },
 "nbformat": 4,
 "nbformat_minor": 2
}
